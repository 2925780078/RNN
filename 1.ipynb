{
 "cells": [
  {
   "cell_type": "code",
   "execution_count": 14,
   "id": "5141f1d0-89cf-42b1-b1ea-13f22d03b0c2",
   "metadata": {},
   "outputs": [],
   "source": [
    "import numpy as np\n",
    "import matplotlib as plt\n",
    "import time\n",
    "from tqdm import *\n"
   ]
  },
  {
   "cell_type": "code",
   "execution_count": 15,
   "id": "19f4f685-9feb-44a7-a745-b0cf85ab62a5",
   "metadata": {},
   "outputs": [],
   "source": [
    "import torch\n",
    "from torch.utils.data import DataLoader\n",
    "import torch.optim as optim"
   ]
  },
  {
   "cell_type": "code",
   "execution_count": 28,
   "id": "edeb2cd8-6197-48a5-974c-fa9c3db9a4d8",
   "metadata": {},
   "outputs": [
    {
     "name": "stdout",
     "output_type": "stream",
     "text": [
      "x_one_hot: [[0, 1, 0, 0], [1, 0, 0, 0], [0, 0, 1, 0], [0, 0, 1, 0], [0, 0, 0, 1]]\n",
      "torch.Size([5])\n"
     ]
    }
   ],
   "source": [
    "input_size=4\n",
    "hidden_size=4\n",
    "num_layers=1\n",
    "batch_size=1\n",
    "seq_len=5\n",
    "# 准备数据\n",
    "idx2char=['e','h','l','o']\n",
    "x_data=[1,0,2,2,3] # hello\n",
    "y_data=[3,1,2,3,2] # ohlol\n",
    "\n",
    "one_hot_lookup=[[1,0,0,0],\n",
    "                [0,1,0,0],\n",
    "                [0,0,1,0],\n",
    "                [0,0,0,1]] #分别对应0,1,2,3项\n",
    "x_one_hot=[one_hot_lookup[x] for x in x_data] # 组成序列张量\n",
    "print('x_one_hot:',x_one_hot)\n",
    "\n",
    "# 构造输入序列和标签\n",
    "inputs=torch.Tensor(x_one_hot).view(-1,batch_size,input_size)\n",
    "labels=torch.LongTensor(y_data)\n",
    "#直接输入一维label，交叉熵只接受一维label\n",
    "#在上一篇的RNNcell中因为输入的数据不是一次性完整输入，所以需要变形以便每次循环提取一个一维label\n",
    "print(labels.shape)"
   ]
  },
  {
   "cell_type": "code",
   "execution_count": 29,
   "id": "bf814224-cb0b-458b-a732-801ab4136802",
   "metadata": {},
   "outputs": [],
   "source": [
    "# design model\n",
    "class Model(torch.nn.Module):\n",
    "    def __init__(self,input_size,hidden_size,batch_size,num_layers=1):\n",
    "        super(Model, self).__init__()\n",
    "        self.num_layers=num_layers\n",
    "        self.batch_size=batch_size\n",
    "        self.input_size=input_size\n",
    "        self.hidden_size=hidden_size\n",
    "        self.rnn=torch.nn.RNN(input_size=self.input_size,\n",
    "                              hidden_size=self.hidden_size,\n",
    "                              num_layers=self.num_layers)\n",
    "\n",
    "    def forward(self,input):\n",
    "        hidden=torch.zeros(self.num_layers,self.batch_size,self.hidden_size)\n",
    "        out, _=self.rnn(input,hidden)\n",
    "        return out.view(-1,self.hidden_size)\n",
    "    #变成（seqlen x batch_size,hiddensize）,因为交叉熵损失接受二维Tensor\n",
    "\n",
    "net=Model(input_size,hidden_size,batch_size,num_layers)"
   ]
  },
  {
   "cell_type": "code",
   "execution_count": 30,
   "id": "4dd06666-3d99-43b5-933a-4bd5a0f82125",
   "metadata": {},
   "outputs": [],
   "source": [
    "# loss and optimizer\n",
    "criterion=torch.nn.CrossEntropyLoss()\n",
    "optimizer=torch.optim.Adam(net.parameters(), lr=0.05)"
   ]
  },
  {
   "cell_type": "code",
   "execution_count": 31,
   "id": "3c13f718-27c1-41fc-8ceb-4a1488189af6",
   "metadata": {},
   "outputs": [
    {
     "name": "stdout",
     "output_type": "stream",
     "text": [
      "Predicted:  eello,Epoch [1/20] loss=1.318\n",
      "Predicted:  eello,Epoch [2/20] loss=1.214\n",
      "Predicted:  ehloo,Epoch [3/20] loss=1.128\n",
      "Predicted:  ohloo,Epoch [4/20] loss=1.050\n",
      "Predicted:  ohloo,Epoch [5/20] loss=0.976\n",
      "Predicted:  ohloo,Epoch [6/20] loss=0.906\n",
      "Predicted:  ohlol,Epoch [7/20] loss=0.839\n",
      "Predicted:  ohlol,Epoch [8/20] loss=0.777\n",
      "Predicted:  ohlol,Epoch [9/20] loss=0.722\n",
      "Predicted:  ohlol,Epoch [10/20] loss=0.674\n",
      "Predicted:  ohlol,Epoch [11/20] loss=0.635\n",
      "Predicted:  ohlol,Epoch [12/20] loss=0.602\n",
      "Predicted:  ohlol,Epoch [13/20] loss=0.575\n",
      "Predicted:  ohlol,Epoch [14/20] loss=0.551\n",
      "Predicted:  ohlol,Epoch [15/20] loss=0.530\n",
      "Predicted:  ohlol,Epoch [16/20] loss=0.511\n",
      "Predicted:  ohlol,Epoch [17/20] loss=0.493\n",
      "Predicted:  ohlol,Epoch [18/20] loss=0.475\n",
      "Predicted:  ohlol,Epoch [19/20] loss=0.458\n",
      "Predicted:  ohlol,Epoch [20/20] loss=0.443\n"
     ]
    }
   ],
   "source": [
    "# train cycle\n",
    "for epoch in range(20):\n",
    "    optimizer.zero_grad()\n",
    "    outputs=net(inputs)\n",
    "    loss=criterion(outputs,labels)\n",
    "    loss.backward()\n",
    "    optimizer.step()\n",
    "\n",
    "    _, idx=outputs.max(dim=1)\n",
    "    idx=idx.data.numpy()\n",
    "    print('Predicted: ',''.join([idx2char[x] for x in idx]),end='')\n",
    "    print(',Epoch [%d/20] loss=%.3f' % (epoch+1, loss.item()))"
   ]
  },
  {
   "cell_type": "code",
   "execution_count": null,
   "id": "c8439b9a-b838-422a-977e-d0d5cd0f309f",
   "metadata": {},
   "outputs": [],
   "source": []
  }
 ],
 "metadata": {
  "kernelspec": {
   "display_name": "Python 3 (ipykernel)",
   "language": "python",
   "name": "python3"
  },
  "language_info": {
   "codemirror_mode": {
    "name": "ipython",
    "version": 3
   },
   "file_extension": ".py",
   "mimetype": "text/x-python",
   "name": "python",
   "nbconvert_exporter": "python",
   "pygments_lexer": "ipython3",
   "version": "3.9.7"
  }
 },
 "nbformat": 4,
 "nbformat_minor": 5
}
